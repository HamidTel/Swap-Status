{
  "nbformat": 4,
  "nbformat_minor": 0,
  "metadata": {
    "colab": {
      "name": "Reading from Google Drive Spreadsheet.ipynb",
      "provenance": [],
      "authorship_tag": "ABX9TyOYdAzrePfbo6paD5wBJxt4",
      "include_colab_link": true
    },
    "kernelspec": {
      "name": "python3",
      "display_name": "Python 3"
    },
    "language_info": {
      "name": "python"
    }
  },
  "cells": [
    {
      "cell_type": "markdown",
      "metadata": {
        "id": "view-in-github",
        "colab_type": "text"
      },
      "source": [
        "<a href=\"https://colab.research.google.com/github/HamidTel/Swap-Status/blob/main/Reading_from_Google_Drive_Spreadsheet.ipynb\" target=\"_parent\"><img src=\"https://colab.research.google.com/assets/colab-badge.svg\" alt=\"Open In Colab\"/></a>"
      ]
    },
    {
      "cell_type": "code",
      "execution_count": 2,
      "metadata": {
        "colab": {
          "base_uri": "https://localhost:8080/"
        },
        "id": "9Y9zTaatrmtV",
        "outputId": "a413c7b5-d555-4b60-8dd3-418605052859"
      },
      "outputs": [
        {
          "output_type": "stream",
          "name": "stdout",
          "text": [
            "Mounted at /content/drive\n"
          ]
        }
      ],
      "source": [
        "from google.colab import drive\n",
        "drive.mount('/content/drive')"
      ]
    },
    {
      "cell_type": "code",
      "source": [
        "import pandas as pd\n",
        "import os\n",
        "from datetime import datetime"
      ],
      "metadata": {
        "id": "Srg73dfJty-K"
      },
      "execution_count": 34,
      "outputs": []
    },
    {
      "cell_type": "code",
      "source": [
        "path='/content/drive/MyDrive/Analytics/GGCC-p1/GGCC_Phase1/References'"
      ],
      "metadata": {
        "id": "HyhihxVctuUV"
      },
      "execution_count": 11,
      "outputs": []
    },
    {
      "cell_type": "code",
      "source": [
        "os.chdir(path)\n",
        "#os.getcwd()"
      ],
      "metadata": {
        "colab": {
          "base_uri": "https://localhost:8080/",
          "height": 35
        },
        "id": "zIgX4YY2t3XC",
        "outputId": "9157a063-c437-4ea8-bb11-43a5e0d898c4"
      },
      "execution_count": 12,
      "outputs": [
        {
          "output_type": "execute_result",
          "data": {
            "text/plain": [
              "'/content/drive/MyDrive/Analytics/GGCC-p1/GGCC_Phase1/References'"
            ],
            "application/vnd.google.colaboratory.intrinsic+json": {
              "type": "string"
            }
          },
          "metadata": {},
          "execution_count": 12
        }
      ]
    },
    {
      "cell_type": "code",
      "source": [
        "from google.colab import auth\n",
        "auth.authenticate_user()\n",
        "\n",
        "import gspread\n",
        "from google.auth import default\n",
        "creds, _ = default()\n",
        "\n",
        "gc = gspread.authorize(creds)"
      ],
      "metadata": {
        "id": "0gnFGIYssPZv"
      },
      "execution_count": 3,
      "outputs": []
    },
    {
      "cell_type": "code",
      "source": [
        "worksheet = gc.open('2022 AB Vendor Upgrade').worksheet(\"2022\")\n",
        "print('date:',datetime.now())\n",
        "# get_all_values gives a list of rows.\n",
        "rows = worksheet.get_all_values()\n",
        "#print(rows)\n",
        "\n",
        "import pandas as pd\n",
        "df=pd.DataFrame.from_records(rows[1:],columns=rows[0])"
      ],
      "metadata": {
        "colab": {
          "base_uri": "https://localhost:8080/"
        },
        "id": "bfTKd7gosqfi",
        "outputId": "a4dcb18f-906e-473e-bae8-879d9c4151df"
      },
      "execution_count": 35,
      "outputs": [
        {
          "output_type": "stream",
          "name": "stdout",
          "text": [
            "date: 2022-03-12 06:33:29.798539\n"
          ]
        }
      ]
    },
    {
      "cell_type": "code",
      "source": [
        "columns=['Cluster','Site ID','Antenna Swap Complete','Antenna Swap Start','Antenna Swap End','RRU Swap Complete','RRU Swap Start','RRU Swap End']\n",
        "df_status=df[columns]\n",
        "df_status.head()"
      ],
      "metadata": {
        "colab": {
          "base_uri": "https://localhost:8080/",
          "height": 206
        },
        "id": "gxgj3YFVwU2U",
        "outputId": "9ec2770b-72bf-4b9e-cc25-35550e145349"
      },
      "execution_count": 33,
      "outputs": [
        {
          "output_type": "execute_result",
          "data": {
            "text/plain": [
              "  Cluster Site ID Antenna Swap Complete Antenna Swap Start Antenna Swap End  \\\n",
              "0   CGY04  AB1748                  TRUE         01/10/2022       01/14/2022   \n",
              "1   CGY04  AB0059                  TRUE         12/10/2021       12/10/2021   \n",
              "2   CGY04  AB0410                  TRUE         01/10/2022       01/14/2022   \n",
              "3   CGY04  AB1723                  TRUE         01/10/2022       01/14/2022   \n",
              "4   CGY04  AB1744                 FALSE         03/14/2022       03/18/2022   \n",
              "\n",
              "  RRU Swap Complete RRU Swap Start RRU Swap End  \n",
              "0              TRUE     02/22/2022   02/25/2022  \n",
              "1              TRUE     02/16/2022   02/18/2022  \n",
              "2              TRUE     02/23/2022   02/25/2022  \n",
              "3              TRUE     02/23/2022   02/25/2022  \n",
              "4             FALSE     04/18/2022   04/22/2022  "
            ],
            "text/html": [
              "\n",
              "  <div id=\"df-69ad8171-80ed-4ce7-a6cc-8c3ac20666a5\">\n",
              "    <div class=\"colab-df-container\">\n",
              "      <div>\n",
              "<style scoped>\n",
              "    .dataframe tbody tr th:only-of-type {\n",
              "        vertical-align: middle;\n",
              "    }\n",
              "\n",
              "    .dataframe tbody tr th {\n",
              "        vertical-align: top;\n",
              "    }\n",
              "\n",
              "    .dataframe thead th {\n",
              "        text-align: right;\n",
              "    }\n",
              "</style>\n",
              "<table border=\"1\" class=\"dataframe\">\n",
              "  <thead>\n",
              "    <tr style=\"text-align: right;\">\n",
              "      <th></th>\n",
              "      <th>Cluster</th>\n",
              "      <th>Site ID</th>\n",
              "      <th>Antenna Swap Complete</th>\n",
              "      <th>Antenna Swap Start</th>\n",
              "      <th>Antenna Swap End</th>\n",
              "      <th>RRU Swap Complete</th>\n",
              "      <th>RRU Swap Start</th>\n",
              "      <th>RRU Swap End</th>\n",
              "    </tr>\n",
              "  </thead>\n",
              "  <tbody>\n",
              "    <tr>\n",
              "      <th>0</th>\n",
              "      <td>CGY04</td>\n",
              "      <td>AB1748</td>\n",
              "      <td>TRUE</td>\n",
              "      <td>01/10/2022</td>\n",
              "      <td>01/14/2022</td>\n",
              "      <td>TRUE</td>\n",
              "      <td>02/22/2022</td>\n",
              "      <td>02/25/2022</td>\n",
              "    </tr>\n",
              "    <tr>\n",
              "      <th>1</th>\n",
              "      <td>CGY04</td>\n",
              "      <td>AB0059</td>\n",
              "      <td>TRUE</td>\n",
              "      <td>12/10/2021</td>\n",
              "      <td>12/10/2021</td>\n",
              "      <td>TRUE</td>\n",
              "      <td>02/16/2022</td>\n",
              "      <td>02/18/2022</td>\n",
              "    </tr>\n",
              "    <tr>\n",
              "      <th>2</th>\n",
              "      <td>CGY04</td>\n",
              "      <td>AB0410</td>\n",
              "      <td>TRUE</td>\n",
              "      <td>01/10/2022</td>\n",
              "      <td>01/14/2022</td>\n",
              "      <td>TRUE</td>\n",
              "      <td>02/23/2022</td>\n",
              "      <td>02/25/2022</td>\n",
              "    </tr>\n",
              "    <tr>\n",
              "      <th>3</th>\n",
              "      <td>CGY04</td>\n",
              "      <td>AB1723</td>\n",
              "      <td>TRUE</td>\n",
              "      <td>01/10/2022</td>\n",
              "      <td>01/14/2022</td>\n",
              "      <td>TRUE</td>\n",
              "      <td>02/23/2022</td>\n",
              "      <td>02/25/2022</td>\n",
              "    </tr>\n",
              "    <tr>\n",
              "      <th>4</th>\n",
              "      <td>CGY04</td>\n",
              "      <td>AB1744</td>\n",
              "      <td>FALSE</td>\n",
              "      <td>03/14/2022</td>\n",
              "      <td>03/18/2022</td>\n",
              "      <td>FALSE</td>\n",
              "      <td>04/18/2022</td>\n",
              "      <td>04/22/2022</td>\n",
              "    </tr>\n",
              "  </tbody>\n",
              "</table>\n",
              "</div>\n",
              "      <button class=\"colab-df-convert\" onclick=\"convertToInteractive('df-69ad8171-80ed-4ce7-a6cc-8c3ac20666a5')\"\n",
              "              title=\"Convert this dataframe to an interactive table.\"\n",
              "              style=\"display:none;\">\n",
              "        \n",
              "  <svg xmlns=\"http://www.w3.org/2000/svg\" height=\"24px\"viewBox=\"0 0 24 24\"\n",
              "       width=\"24px\">\n",
              "    <path d=\"M0 0h24v24H0V0z\" fill=\"none\"/>\n",
              "    <path d=\"M18.56 5.44l.94 2.06.94-2.06 2.06-.94-2.06-.94-.94-2.06-.94 2.06-2.06.94zm-11 1L8.5 8.5l.94-2.06 2.06-.94-2.06-.94L8.5 2.5l-.94 2.06-2.06.94zm10 10l.94 2.06.94-2.06 2.06-.94-2.06-.94-.94-2.06-.94 2.06-2.06.94z\"/><path d=\"M17.41 7.96l-1.37-1.37c-.4-.4-.92-.59-1.43-.59-.52 0-1.04.2-1.43.59L10.3 9.45l-7.72 7.72c-.78.78-.78 2.05 0 2.83L4 21.41c.39.39.9.59 1.41.59.51 0 1.02-.2 1.41-.59l7.78-7.78 2.81-2.81c.8-.78.8-2.07 0-2.86zM5.41 20L4 18.59l7.72-7.72 1.47 1.35L5.41 20z\"/>\n",
              "  </svg>\n",
              "      </button>\n",
              "      \n",
              "  <style>\n",
              "    .colab-df-container {\n",
              "      display:flex;\n",
              "      flex-wrap:wrap;\n",
              "      gap: 12px;\n",
              "    }\n",
              "\n",
              "    .colab-df-convert {\n",
              "      background-color: #E8F0FE;\n",
              "      border: none;\n",
              "      border-radius: 50%;\n",
              "      cursor: pointer;\n",
              "      display: none;\n",
              "      fill: #1967D2;\n",
              "      height: 32px;\n",
              "      padding: 0 0 0 0;\n",
              "      width: 32px;\n",
              "    }\n",
              "\n",
              "    .colab-df-convert:hover {\n",
              "      background-color: #E2EBFA;\n",
              "      box-shadow: 0px 1px 2px rgba(60, 64, 67, 0.3), 0px 1px 3px 1px rgba(60, 64, 67, 0.15);\n",
              "      fill: #174EA6;\n",
              "    }\n",
              "\n",
              "    [theme=dark] .colab-df-convert {\n",
              "      background-color: #3B4455;\n",
              "      fill: #D2E3FC;\n",
              "    }\n",
              "\n",
              "    [theme=dark] .colab-df-convert:hover {\n",
              "      background-color: #434B5C;\n",
              "      box-shadow: 0px 1px 3px 1px rgba(0, 0, 0, 0.15);\n",
              "      filter: drop-shadow(0px 1px 2px rgba(0, 0, 0, 0.3));\n",
              "      fill: #FFFFFF;\n",
              "    }\n",
              "  </style>\n",
              "\n",
              "      <script>\n",
              "        const buttonEl =\n",
              "          document.querySelector('#df-69ad8171-80ed-4ce7-a6cc-8c3ac20666a5 button.colab-df-convert');\n",
              "        buttonEl.style.display =\n",
              "          google.colab.kernel.accessAllowed ? 'block' : 'none';\n",
              "\n",
              "        async function convertToInteractive(key) {\n",
              "          const element = document.querySelector('#df-69ad8171-80ed-4ce7-a6cc-8c3ac20666a5');\n",
              "          const dataTable =\n",
              "            await google.colab.kernel.invokeFunction('convertToInteractive',\n",
              "                                                     [key], {});\n",
              "          if (!dataTable) return;\n",
              "\n",
              "          const docLinkHtml = 'Like what you see? Visit the ' +\n",
              "            '<a target=\"_blank\" href=https://colab.research.google.com/notebooks/data_table.ipynb>data table notebook</a>'\n",
              "            + ' to learn more about interactive tables.';\n",
              "          element.innerHTML = '';\n",
              "          dataTable['output_type'] = 'display_data';\n",
              "          await google.colab.output.renderOutput(dataTable, element);\n",
              "          const docLink = document.createElement('div');\n",
              "          docLink.innerHTML = docLinkHtml;\n",
              "          element.appendChild(docLink);\n",
              "        }\n",
              "      </script>\n",
              "    </div>\n",
              "  </div>\n",
              "  "
            ]
          },
          "metadata": {},
          "execution_count": 33
        }
      ]
    },
    {
      "cell_type": "code",
      "source": [
        "#sh = gc.create(path+'My cool spreadsheet')"
      ],
      "metadata": {
        "id": "7sPDBva0skBs"
      },
      "execution_count": 14,
      "outputs": []
    },
    {
      "cell_type": "code",
      "source": [
        "'''worksheet = gc.open(path+'My cool spreadsheet').sheet1\n",
        "\n",
        "cell_list = worksheet.range('A1:C2')\n",
        "\n",
        "import random\n",
        "for cell in cell_list:\n",
        "  cell.value = random.randint(1, 10)\n",
        "\n",
        "worksheet.update_cells(cell_list)'''"
      ],
      "metadata": {
        "id": "iIrgLJ1RsnlD"
      },
      "execution_count": null,
      "outputs": []
    },
    {
      "cell_type": "code",
      "source": [
        ""
      ],
      "metadata": {
        "id": "CQ1MmWlBxb6L"
      },
      "execution_count": null,
      "outputs": []
    }
  ]
}